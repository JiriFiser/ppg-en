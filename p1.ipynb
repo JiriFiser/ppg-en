{
 "cells": [
  {
   "cell_type": "markdown",
   "source": [
    "# Brief introduction to parallel programming\n",
    "\n",
    "Parallel programming is programming paradigm which make possible \n",
    "**utilization of hardware parallelism** (e.g. computer clusters or multicore\n",
    "CPUs) for more efficient (i.e. faster) programs.\n",
    "\n",
    "The low level parallel programming is most typical case of **asynchronous \n",
    "programming** i.e. programming in which the time ordering of instruction is\n",
    "undefined. For two instruction there is no warranty that one instruction is \n",
    "executed before another or vice versa (there are also a certain probability that\n",
    "both instructions are performed simultaneously).\n",
    "\n",
    "The *asynchronous programming are inherently nondeterministic* —\n",
    "the result (output) is not unambiguously determined by inputs (basic principles\n",
    "of usable algorithms). In typical case the result is often valid but there is\n",
    "nonzero probability of invalid results (the instructions are performed in a\n",
    "wrong order). There is also possibility of infinite loops or endless waitings \n",
    "in asynchronous programs (deadlock).\n",
    "\n",
    "The modern approaches to parallel programming minimize nondeterminism or make it\n",
    "impossible but this approach can **increase dependency between parallel parts of code**\n",
    "(some code is waiting for execution of another code). This **increases overhead** of \n",
    "program making it less parallel and therefore less efficient.\n",
    "\n",
    "The character of parallel programming strictly depends on a type of parallel \n",
    "hardware architecture.\n",
    "The most general classification of parallel system provides Flynn's taxonomy."
   ],
   "metadata": {
    "collapsed": false,
    "pycharm": {
     "name": "#%% md\n"
    }
   }
  },
  {
   "cell_type": "markdown",
   "source": [
    "## Flynn's taxonomy\n",
    "\n",
    "The four categories defined by Flynn are based upon the number \n",
    "of concurrent instruction (or control) streams and data streams available \n",
    "in the architecture (two dimensional classification)\n",
    "\n",
    "| data/instruction | single i. | multiple i. |\n",
    "|------------------|-----------|-------------|\n",
    "| single d.        |    SISD   |    (MISD)   |\n",
    "| multiple d.      |    SIMD   |     MIMD    |\n",
    "\n",
    "### SISD\n",
    "\n",
    "SISD category contains nonparallel computers of von Neumann or Harvard architecture.\n",
    "Only one instruction on one data input (i.e. register) is performed in one processing\n",
    "unit at one time.\n",
    "\n",
    "![MIMD](https://upload.wikimedia.org/wikipedia/commons/thumb/a/ae/SISD.svg/500px-SISD.svg.png)\n",
    "\n",
    "> SISD computers also support some type of hardware parallelism which is hidden from\n",
    "> the point of view of application code (code uses serial instruction which are \n",
    "> automatically parallelized)\n",
    "> * bit parallelism = bitwise operation are performed on several bits t once\n",
    "> * superscalar processors = superscalar processor can execute more \n",
    ">   than one instruction during a clock cycle by simultaneously dispatching multiple\n",
    ">   instructions to different execution units on the processor.\n",
    "\n",
    "###  MISD \n",
    "\n",
    "This category is uncommon. It is generally used for fault tolerance. \n",
    "Heterogeneous systems operate on the same data stream and must agree on the result.\n",
    "\n",
    "### SIMD\n",
    "\n",
    "A single instruction operates on multiple different data outputs at once by multiple \n",
    "functional units (i.e multiple ALUs or FPUs). \n",
    "\n",
    "![SIMD](https://upload.wikimedia.org/wikipedia/commons/thumb/2/21/SIMD.svg/500px-SIMD.svg.png)\n",
    "\n",
    "The SIMD architecture make possible **vectorization** i.e. performing single instruction\n",
    "on whole vector of numbers at one time (also denoted as data level parallelism).\n",
    "\n",
    "The SIMD units and appropriate instructions sets are provided by mainstream CPUs. \n",
    "Intel processors offers SSE instruction set (Streaming SIMD Extensions), \n",
    "ARM supports NEON extension. The most advanced SIMD is provided by GPUs which \n",
    "have several hundreds functional units for integer and floating points operations.\n",
    "\n",
    "The modern C and C++ language compilers offers automatic generation of \n",
    "vectorized code for some simple construct (e.g. for-loop), but often an additional\n",
    "information is necessary.\n",
    "The support of vectorization is also included in most packages \n",
    "(e.g. Matlab, Mathematica or Intel implementation of NumPy). "
   ],
   "metadata": {
    "collapsed": false,
    "pycharm": {
     "name": "#%% md\n"
    }
   }
  },
  {
   "cell_type": "markdown",
   "source": [
    "### MIMD\n",
    "This category encompasses system in which at any time, different processors \n",
    "may be executing different instructions on different pieces of data.\n",
    "\n",
    "![SIMD](https://upload.wikimedia.org/wikipedia/commons/thumb/2/21/SIMD.svg/500px-MIMD.svg.png)\n",
    "\n",
    "The MIMD system can be categorized to two main subcategories:\n",
    "\n",
    "1. system with distributed memory\n",
    "1. system with shared memory\n",
    "\n",
    "#### System with shared memory\n",
    "\n",
    "\n",
    "\n",
    "System with shared memory (loosely coupled systems) \n",
    "contains a set of nodes. Every nodes contains processor and\n",
    "local memory. Nodes are connected by interconnection network which makes possible\n",
    "exchange of messages and data among nodes.\n",
    "\n",
    "There are two incarnation of loosely coupled systems:\n",
    "1.  **computer clusters** (massively parallel systems, supercomputers)<br>\n",
    "    = single computer with dedicated (switch-less) very fast interconnection network\n",
    "      and typical network topology (e.g. hypercube or toroidal grid).\n",
    "      ![Solomon -- Czech fastest supercomputer](https://info.sso.vsb.cz/cz.vsb.edison.info.web/fileServlet?type=image&reportId=35294)\n",
    "      \n",
    "2.  **network grid computing**<br>\n",
    "    = system of several computers which are connected by normal network \n",
    "      (e.g. Internet) and typically are coupled only for several task\n",
    "      (see for example [Boinc](https://boinc.berkeley.edu/).\n",
    "\n",
    "Main pros:\n",
    " * highly scalable (up to billions of CPUs or GPUs)\n",
    " * no problems with memory access synchronization\n",
    " \n",
    "Main cons:\n",
    " * the physical copying of data betweem nodes (optimization is possible)\n",
    " * standard (uniprocessor) programming techniques are not usable, the message\n",
    "   passing paradigm has to be applied\n",
    "   \n",
    "\n",
    "      \n",
    "\n",
    "    \n",
    "        \n"
   ],
   "metadata": {
    "collapsed": false,
    "pycharm": {
     "name": "#%% md\n"
    }
   }
  },
  {
   "cell_type": "code",
   "execution_count": 2,
   "outputs": [],
   "source": [
    "!ipcluster start --daemonize --engines=MPI"
   ],
   "metadata": {
    "collapsed": false,
    "pycharm": {
     "name": "#%%\n",
     "is_executing": false
    }
   }
  },
  {
   "cell_type": "code",
   "execution_count": 4,
   "outputs": [
    {
     "data": {
      "text/plain": "[0, 1, 2, 3]"
     },
     "metadata": {},
     "output_type": "execute_result",
     "execution_count": 4
    }
   ],
   "source": [
    "from ipyparallel import Client\n",
    "c = Client()\n",
    "c.ids"
   ],
   "metadata": {
    "collapsed": false,
    "pycharm": {
     "name": "#%%\n",
     "is_executing": false
    }
   }
  },
  {
   "cell_type": "code",
   "execution_count": 5,
   "outputs": [
    {
     "name": "stdout",
     "text": [
      "[stdout:0] My rank is  1\n[stdout:1] My rank is  0\n[stdout:2] My rank is  3\n[stdout:3] My rank is  2\n"
     ],
     "output_type": "stream"
    }
   ],
   "source": [
    "%%px\n",
    "from mpi4py import MPI\n",
    "\n",
    "comm = MPI.COMM_WORLD\n",
    "rank = comm.Get_rank()\n",
    "print('My rank is ',rank)\n"
   ],
   "metadata": {
    "collapsed": false,
    "pycharm": {
     "name": "#%% \n",
     "is_executing": false
    }
   }
  },
  {
   "cell_type": "code",
   "execution_count": null,
   "outputs": [],
   "source": [
    "\n"
   ],
   "metadata": {
    "collapsed": false,
    "pycharm": {
     "name": "#%%\n"
    }
   }
  }
 ],
 "metadata": {
  "language_info": {
   "codemirror_mode": {
    "name": "ipython",
    "version": 2
   },
   "file_extension": ".py",
   "mimetype": "text/x-python",
   "name": "python",
   "nbconvert_exporter": "python",
   "pygments_lexer": "ipython2",
   "version": "2.7.6"
  },
  "kernelspec": {
   "name": "python3",
   "language": "python",
   "display_name": "Python 3"
  },
  "pycharm": {
   "stem_cell": {
    "cell_type": "raw",
    "source": [],
    "metadata": {
     "collapsed": false
    }
   }
  }
 },
 "nbformat": 4,
 "nbformat_minor": 0
}